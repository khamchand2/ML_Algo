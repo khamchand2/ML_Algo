{
 "cells": [
  {
   "cell_type": "markdown",
   "metadata": {},
   "source": [
    "# PCA algorithm"
   ]
  },
  {
   "cell_type": "code",
   "execution_count": 1,
   "metadata": {},
   "outputs": [],
   "source": [
    "import numpy as np\n",
    "from sklearn.datasets import make_blobs\n",
    "import matplotlib.pyplot as plt"
   ]
  },
  {
   "cell_type": "markdown",
   "metadata": {},
   "source": [
    "## Sample Data"
   ]
  },
  {
   "cell_type": "code",
   "execution_count": 2,
   "metadata": {},
   "outputs": [],
   "source": [
    "X, y = make_blobs(n_samples=100,random_state=19,n_features=10)"
   ]
  },
  {
   "cell_type": "markdown",
   "metadata": {},
   "source": [
    "## PCA Class "
   ]
  },
  {
   "cell_type": "code",
   "execution_count": 25,
   "metadata": {},
   "outputs": [],
   "source": [
    "class PCA:\n",
    "    def __init__(self,X,k):\n",
    "        self.X = X\n",
    "        self.k = k\n",
    "        self.y = None\n",
    "    def find_mean(self):\n",
    "        return X.mean(axis=1)\n",
    "    def shifting(self):\n",
    "        mu = self.find_mean()\n",
    "        A = np.zeros(X.shape)\n",
    "        for i in range(X.shape[0]):\n",
    "            A[i] = X[i]-mu[i]\n",
    "        return A\n",
    "    def sigma_matrix(self):\n",
    "        A = self.shifting()\n",
    "        S = A.T.dot(A)\n",
    "        return S\n",
    "    def fit(self):\n",
    "        S = self.sigma_matrix()\n",
    "        M = S/X.shape[0]\n",
    "        eigvals,eigvecs = np.linalg.eig(M)\n",
    "        self.y = eigvecs[:,:self.k]\n",
    "    def transform(self):\n",
    "        return self.X.dot(self.y)     \n"
   ]
  },
  {
   "cell_type": "code",
   "execution_count": 26,
   "metadata": {},
   "outputs": [],
   "source": [
    "model = PCA(X,2)\n",
    "model.fit()\n",
    "new_X = model.transform()"
   ]
  },
  {
   "cell_type": "code",
   "execution_count": 27,
   "metadata": {},
   "outputs": [
    {
     "name": "stdout",
     "output_type": "stream",
     "text": [
      "(100, 10)\n",
      "(100, 2)\n"
     ]
    }
   ],
   "source": [
    "print(X.shape)\n",
    "print(new_X.shape)"
   ]
  }
 ],
 "metadata": {
  "kernelspec": {
   "display_name": "Python 3",
   "language": "python",
   "name": "python3"
  },
  "language_info": {
   "codemirror_mode": {
    "name": "ipython",
    "version": 3
   },
   "file_extension": ".py",
   "mimetype": "text/x-python",
   "name": "python",
   "nbconvert_exporter": "python",
   "pygments_lexer": "ipython3",
   "version": "3.7.4"
  }
 },
 "nbformat": 4,
 "nbformat_minor": 2
}

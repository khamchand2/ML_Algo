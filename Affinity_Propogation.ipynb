{
 "cells": [
  {
   "cell_type": "markdown",
   "metadata": {},
   "source": [
    "# Affinity Propogation Algorithm from Scratch"
   ]
  },
  {
   "cell_type": "code",
   "execution_count": 100,
   "metadata": {},
   "outputs": [],
   "source": [
    "import numpy as np\n",
    "import pandas as pd"
   ]
  },
  {
   "cell_type": "markdown",
   "metadata": {},
   "source": [
    "### Generating the Dataset"
   ]
  },
  {
   "cell_type": "code",
   "execution_count": 101,
   "metadata": {},
   "outputs": [],
   "source": [
    "d = {}\n",
    "d['Participent'] = ['Alice','Bob','Cary','Doug','Edna']\n",
    "d['Tax Rate'] = [3,4,3,2,1]\n",
    "d['Fee'] = [4,3,5,1,1]\n",
    "d['Interest Rate'] = [3,5,3,3,3]\n",
    "d['Quantity Limit'] = [2,1,3,3,2]\n",
    "d['Price Limit'] = [1,1,3,2,3]\n",
    "df = pd.DataFrame(d)"
   ]
  },
  {
   "cell_type": "code",
   "execution_count": 102,
   "metadata": {},
   "outputs": [
    {
     "data": {
      "text/html": [
       "<div>\n",
       "<style scoped>\n",
       "    .dataframe tbody tr th:only-of-type {\n",
       "        vertical-align: middle;\n",
       "    }\n",
       "\n",
       "    .dataframe tbody tr th {\n",
       "        vertical-align: top;\n",
       "    }\n",
       "\n",
       "    .dataframe thead th {\n",
       "        text-align: right;\n",
       "    }\n",
       "</style>\n",
       "<table border=\"1\" class=\"dataframe\">\n",
       "  <thead>\n",
       "    <tr style=\"text-align: right;\">\n",
       "      <th></th>\n",
       "      <th>Participent</th>\n",
       "      <th>Tax Rate</th>\n",
       "      <th>Fee</th>\n",
       "      <th>Interest Rate</th>\n",
       "      <th>Quantity Limit</th>\n",
       "      <th>Price Limit</th>\n",
       "    </tr>\n",
       "  </thead>\n",
       "  <tbody>\n",
       "    <tr>\n",
       "      <td>0</td>\n",
       "      <td>Alice</td>\n",
       "      <td>3</td>\n",
       "      <td>4</td>\n",
       "      <td>3</td>\n",
       "      <td>2</td>\n",
       "      <td>1</td>\n",
       "    </tr>\n",
       "    <tr>\n",
       "      <td>1</td>\n",
       "      <td>Bob</td>\n",
       "      <td>4</td>\n",
       "      <td>3</td>\n",
       "      <td>5</td>\n",
       "      <td>1</td>\n",
       "      <td>1</td>\n",
       "    </tr>\n",
       "    <tr>\n",
       "      <td>2</td>\n",
       "      <td>Cary</td>\n",
       "      <td>3</td>\n",
       "      <td>5</td>\n",
       "      <td>3</td>\n",
       "      <td>3</td>\n",
       "      <td>3</td>\n",
       "    </tr>\n",
       "    <tr>\n",
       "      <td>3</td>\n",
       "      <td>Doug</td>\n",
       "      <td>2</td>\n",
       "      <td>1</td>\n",
       "      <td>3</td>\n",
       "      <td>3</td>\n",
       "      <td>2</td>\n",
       "    </tr>\n",
       "    <tr>\n",
       "      <td>4</td>\n",
       "      <td>Edna</td>\n",
       "      <td>1</td>\n",
       "      <td>1</td>\n",
       "      <td>3</td>\n",
       "      <td>2</td>\n",
       "      <td>3</td>\n",
       "    </tr>\n",
       "  </tbody>\n",
       "</table>\n",
       "</div>"
      ],
      "text/plain": [
       "  Participent  Tax Rate  Fee  Interest Rate  Quantity Limit  Price Limit\n",
       "0       Alice         3    4              3               2            1\n",
       "1         Bob         4    3              5               1            1\n",
       "2        Cary         3    5              3               3            3\n",
       "3        Doug         2    1              3               3            2\n",
       "4        Edna         1    1              3               2            3"
      ]
     },
     "execution_count": 102,
     "metadata": {},
     "output_type": "execute_result"
    }
   ],
   "source": [
    "df"
   ]
  },
  {
   "cell_type": "markdown",
   "metadata": {},
   "source": [
    "### Extracting the data as points and creating a numpy array"
   ]
  },
  {
   "cell_type": "code",
   "execution_count": 103,
   "metadata": {},
   "outputs": [],
   "source": [
    "X = np.array([df.iloc[i,1:].values for i in range(df.shape[0])])"
   ]
  },
  {
   "cell_type": "code",
   "execution_count": 104,
   "metadata": {},
   "outputs": [
    {
     "data": {
      "text/plain": [
       "array([[3, 4, 3, 2, 1],\n",
       "       [4, 3, 5, 1, 1],\n",
       "       [3, 5, 3, 3, 3],\n",
       "       [2, 1, 3, 3, 2],\n",
       "       [1, 1, 3, 2, 3]], dtype=object)"
      ]
     },
     "execution_count": 104,
     "metadata": {},
     "output_type": "execute_result"
    }
   ],
   "source": [
    "X"
   ]
  },
  {
   "cell_type": "markdown",
   "metadata": {},
   "source": [
    "### Set the parameters here"
   ]
  },
  {
   "cell_type": "code",
   "execution_count": 105,
   "metadata": {},
   "outputs": [],
   "source": [
    "damping = 0.8 #Extra Noise to assure convergence\n",
    "n = 300 #Number of iterations"
   ]
  },
  {
   "cell_type": "markdown",
   "metadata": {},
   "source": [
    "### Create matrices with default value"
   ]
  },
  {
   "cell_type": "code",
   "execution_count": 106,
   "metadata": {},
   "outputs": [],
   "source": [
    "s_mat = np.zeros(X.shape) #Similarity Matrix\n",
    "r_mat = np.zeros(X.shape) #Responsibility Matrix\n",
    "a_mat = np.zeros(X.shape) #Availability Matrix\n",
    "c_mat = np.zeros(X.shape) #Criterion Matrix "
   ]
  },
  {
   "cell_type": "code",
   "execution_count": 107,
   "metadata": {},
   "outputs": [],
   "source": [
    "def similarity_matrix():\n",
    "    ''' It will create/update and return the similarity matrix'''\n",
    "    min=np.inf\n",
    "    for i in range(X.shape[0]):\n",
    "        for k in range(X.shape[0]):\n",
    "            s_mat[i,k] = -sum((X[i]-X[k])**2)\n",
    "            if(s_mat[i,k]<min):\n",
    "                min = s_mat[i,k]\n",
    "    for i in range(X.shape[0]):\n",
    "        s_mat[i,i]=min\n",
    "    return s_mat\n",
    "    "
   ]
  },
  {
   "cell_type": "code",
   "execution_count": 108,
   "metadata": {},
   "outputs": [],
   "source": [
    "def responsibility_matrix():\n",
    "    ''' It will create/update and return the responsibility matrix'''\n",
    "    for i in range(X.shape[0]):\n",
    "        for k in range(X.shape[0]):\n",
    "            r_mat[i,k] = s_mat[i,k] - max((np.delete(s_mat[i,:],k))+np.delete(a_mat[i,:],k))\n",
    "    return r_mat"
   ]
  },
  {
   "cell_type": "code",
   "execution_count": 109,
   "metadata": {},
   "outputs": [],
   "source": [
    "def availability_matrix():\n",
    "    ''' It will create/update and return the availability matrix'''\n",
    "    for i in range(X.shape[0]):\n",
    "        for k in range(X.shape[0]):\n",
    "            m=np.delete(r_mat[:,k],i)\n",
    "            if(i==k):\n",
    "                a_mat[i,k]=sum(m[m>0])\n",
    "            else:\n",
    "                if(r_mat[k,k]+sum(m[m>0])>0):\n",
    "                    a_mat[i,k]=0\n",
    "                else:\n",
    "                    a_mat[i,k]=r_mat[k,k]+sum(m[m>0])\n",
    "    return a_mat"
   ]
  },
  {
   "cell_type": "markdown",
   "metadata": {},
   "source": [
    "### Final Calculation to create Criterion Matrix"
   ]
  },
  {
   "cell_type": "code",
   "execution_count": 110,
   "metadata": {},
   "outputs": [],
   "source": [
    "for i in range(n):\n",
    "    similarity_matrix()\n",
    "    if i>0:\n",
    "        r_mat = damping*r_mat+(1-damping)*responsibility_matrix()\n",
    "        a_mat = damping*a_mat+(1-damping)*availability_matrix()\n",
    "    else: #To execute it for first time \n",
    "        responsibility_matrix()\n",
    "        availability_matrix()\n",
    "c_mat = r_mat + a_mat #Criterion Matrix "
   ]
  },
  {
   "cell_type": "markdown",
   "metadata": {},
   "source": [
    "### Extracting the cluster from Criterion Matrix"
   ]
  },
  {
   "cell_type": "code",
   "execution_count": 111,
   "metadata": {},
   "outputs": [],
   "source": [
    "clusters = [np.argmax(c_mat[i]) for i in range(X.shape[0])] #Finding the cluster based on position of max value in a row"
   ]
  },
  {
   "cell_type": "markdown",
   "metadata": {},
   "source": [
    "### Final Clusters"
   ]
  },
  {
   "cell_type": "code",
   "execution_count": 112,
   "metadata": {},
   "outputs": [
    {
     "name": "stdout",
     "output_type": "stream",
     "text": [
      "[0, 0, 0, 3, 3]\n"
     ]
    }
   ],
   "source": [
    "print(clusters)"
   ]
  }
 ],
 "metadata": {
  "kernelspec": {
   "display_name": "Python 3",
   "language": "python",
   "name": "python3"
  },
  "language_info": {
   "codemirror_mode": {
    "name": "ipython",
    "version": 3
   },
   "file_extension": ".py",
   "mimetype": "text/x-python",
   "name": "python",
   "nbconvert_exporter": "python",
   "pygments_lexer": "ipython3",
   "version": "3.7.4"
  }
 },
 "nbformat": 4,
 "nbformat_minor": 2
}

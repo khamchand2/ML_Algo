{
 "cells": [
  {
   "cell_type": "markdown",
   "metadata": {},
   "source": [
    "# OPTICS algorithm from scratch"
   ]
  },
  {
   "cell_type": "code",
   "execution_count": 451,
   "metadata": {},
   "outputs": [],
   "source": [
    "import pandas as pd\n",
    "import numpy as np\n",
    "import matplotlib.pyplot as plt\n",
    "from sklearn.datasets import make_blobs"
   ]
  },
  {
   "cell_type": "code",
   "execution_count": 452,
   "metadata": {},
   "outputs": [],
   "source": [
    "X,y = make_blobs(n_samples=500,n_features=2,centers=2,random_state=19)  ### X is the data and y are cluster labels. "
   ]
  },
  {
   "cell_type": "code",
   "execution_count": 453,
   "metadata": {
    "scrolled": true
   },
   "outputs": [
    {
     "data": {
      "text/plain": [
       "<matplotlib.collections.PathCollection at 0x7ffa2bc20c90>"
      ]
     },
     "execution_count": 453,
     "metadata": {},
     "output_type": "execute_result"
    },
    {
     "data": {
      "image/png": "[encoded data removed]",
      "text/plain": [
       "<Figure size 432x288 with 1 Axes>"
      ]
     },
     "metadata": {
      "needs_background": "light"
     },
     "output_type": "display_data"
    }
   ],
   "source": [
    "plt.scatter(X[:,0],X[:,1])"
   ]
  },
  {
   "cell_type": "code",
   "execution_count": 454,
   "metadata": {},
   "outputs": [],
   "source": [
    "d = {}\n",
    "d['Points']=list(X)\n",
    "d['Cluster']=np.zeros(X.shape[0],dtype=int)\n",
    "d['Reachability Distance']=[10000]*X.shape[0]\n",
    "d['Core Distance']         = [10000]*X.shape[0]\n",
    "df = pd.DataFrame(d)"
   ]
  },
  {
   "cell_type": "code",
   "execution_count": 455,
   "metadata": {
    "scrolled": true
   },
   "outputs": [
    {
     "data": {
      "text/html": [
       "<div>\n",
       "<style scoped>\n",
       "    .dataframe tbody tr th:only-of-type {\n",
       "        vertical-align: middle;\n",
       "    }\n",
       "\n",
       "    .dataframe tbody tr th {\n",
       "        vertical-align: top;\n",
       "    }\n",
       "\n",
       "    .dataframe thead th {\n",
       "        text-align: right;\n",
       "    }\n",
       "</style>\n",
       "<table border=\"1\" class=\"dataframe\">\n",
       "  <thead>\n",
       "    <tr style=\"text-align: right;\">\n",
       "      <th></th>\n",
       "      <th>Points</th>\n",
       "      <th>Cluster</th>\n",
       "      <th>Reachability Distance</th>\n",
       "      <th>Core Distance</th>\n",
       "    </tr>\n",
       "  </thead>\n",
       "  <tbody>\n",
       "    <tr>\n",
       "      <td>0</td>\n",
       "      <td>[-4.5909383873448295, -6.043818587917302]</td>\n",
       "      <td>0</td>\n",
       "      <td>10000</td>\n",
       "      <td>10000</td>\n",
       "    </tr>\n",
       "    <tr>\n",
       "      <td>1</td>\n",
       "      <td>[-4.883593256800025, -8.496874685265519]</td>\n",
       "      <td>0</td>\n",
       "      <td>10000</td>\n",
       "      <td>10000</td>\n",
       "    </tr>\n",
       "    <tr>\n",
       "      <td>2</td>\n",
       "      <td>[-8.035884035174696, 4.210129616672425]</td>\n",
       "      <td>0</td>\n",
       "      <td>10000</td>\n",
       "      <td>10000</td>\n",
       "    </tr>\n",
       "    <tr>\n",
       "      <td>3</td>\n",
       "      <td>[-8.924876431092317, 6.281052315876352]</td>\n",
       "      <td>0</td>\n",
       "      <td>10000</td>\n",
       "      <td>10000</td>\n",
       "    </tr>\n",
       "    <tr>\n",
       "      <td>4</td>\n",
       "      <td>[-7.635452157309633, 6.406502874004334]</td>\n",
       "      <td>0</td>\n",
       "      <td>10000</td>\n",
       "      <td>10000</td>\n",
       "    </tr>\n",
       "  </tbody>\n",
       "</table>\n",
       "</div>"
      ],
      "text/plain": [
       "                                      Points  Cluster  Reachability Distance  \\\n",
       "0  [-4.5909383873448295, -6.043818587917302]        0                  10000   \n",
       "1   [-4.883593256800025, -8.496874685265519]        0                  10000   \n",
       "2    [-8.035884035174696, 4.210129616672425]        0                  10000   \n",
       "3    [-8.924876431092317, 6.281052315876352]        0                  10000   \n",
       "4    [-7.635452157309633, 6.406502874004334]        0                  10000   \n",
       "\n",
       "   Core Distance  \n",
       "0          10000  \n",
       "1          10000  \n",
       "2          10000  \n",
       "3          10000  \n",
       "4          10000  "
      ]
     },
     "execution_count": 455,
     "metadata": {},
     "output_type": "execute_result"
    }
   ],
   "source": [
    "df.head()"
   ]
  },
  {
   "cell_type": "markdown",
   "metadata": {},
   "source": [
    "### Set the parameters here"
   ]
  },
  {
   "cell_type": "code",
   "execution_count": 456,
   "metadata": {},
   "outputs": [],
   "source": [
    "eps=5\n",
    "min_pt=3"
   ]
  },
  {
   "cell_type": "markdown",
   "metadata": {},
   "source": [
    "### Find the Neighbours of a point"
   ]
  },
  {
   "cell_type": "code",
   "execution_count": 457,
   "metadata": {},
   "outputs": [],
   "source": [
    "def find_neighbors(p):\n",
    "    '''Return the indices of Neighbourhood points '''\n",
    "    n_points = [] #index and distance of the neighborhood point\n",
    "    q=df['Points'][df.index!=p] #points except pth point\n",
    "    for i,j in zip(q.index,q):\n",
    "        d=np.linalg.norm(X[p]-j)\n",
    "        if(d<eps):\n",
    "            n_points.append((i,d))\n",
    "    return n_points"
   ]
  },
  {
   "cell_type": "markdown",
   "metadata": {},
   "source": [
    "### To update cluster of the point"
   ]
  },
  {
   "cell_type": "code",
   "execution_count": 458,
   "metadata": {},
   "outputs": [],
   "source": [
    "def update_poit(p,cluster):\n",
    "    df.iloc[p,1] = cluster"
   ]
  },
  {
   "cell_type": "markdown",
   "metadata": {},
   "source": [
    "### Update the Core and Reachability Distance"
   ]
  },
  {
   "cell_type": "code",
   "execution_count": 459,
   "metadata": {
    "scrolled": true
   },
   "outputs": [],
   "source": [
    "def core_reach_dist(p,n_points,cluster):\n",
    "    '''Update the core and rechability distance'''\n",
    "    n_points.sort(key = lambda x:x[1]) #sort based on the distance in ascending order\n",
    "    df.iloc[p,3]=n_points[min_pt-1][1] #updating the core distance\n",
    "    update_poit(p,cluster)\n",
    "    for j in n_points:\n",
    "        r = max(j[1],n_points[min_pt-1][1]) #reachability distance\n",
    "        if(r<df.iloc[j[0],2]): #if new reachability distance is smaller than old rechability distance\n",
    "            df.iloc[j[0],2] = r #update reachability distance\n",
    "    for j in n_points:\n",
    "        if(check_processed(j[0])==False):\n",
    "            n_points_neigh=find_neighbors(j[0])\n",
    "            n_points_neigh.sort(key = lambda x:x[1]) #sort based on the distance in ascending order\n",
    "            df.iloc[j[0],3]=n_points_neigh[min_pt-1][1] #updating the core distance\n",
    "            update_poit(j[0],cluster)\n",
    "            for k in n_points_neigh:\n",
    "                r = max(k[1],n_points_neigh[min_pt-1][1]) #reachability distance\n",
    "                if(r<df.iloc[k[0],2]): #if new reachability distance is smaller than old rechability distance\n",
    "                    df.iloc[k[0],2] = r #update reachability distance"
   ]
  },
  {
   "cell_type": "markdown",
   "metadata": {},
   "source": [
    "### Check if a point is processed or not"
   ]
  },
  {
   "cell_type": "code",
   "execution_count": 460,
   "metadata": {},
   "outputs": [],
   "source": [
    "def check_processed(p):\n",
    "    if df['Cluster'][p]==0:\n",
    "        return False\n",
    "    return True"
   ]
  },
  {
   "cell_type": "markdown",
   "metadata": {},
   "source": [
    "## Final Calculation"
   ]
  },
  {
   "cell_type": "code",
   "execution_count": 461,
   "metadata": {},
   "outputs": [],
   "source": [
    "cluster=1\n",
    "for i in df.index:\n",
    "    if check_processed(i)==False:\n",
    "        n_points_d = find_neighbors(i)\n",
    "        core_reach_dist(i,n_points_d,cluster)\n",
    "        cluster=cluster+1"
   ]
  },
  {
   "cell_type": "markdown",
   "metadata": {},
   "source": [
    "## Final Result"
   ]
  },
  {
   "cell_type": "code",
   "execution_count": 462,
   "metadata": {},
   "outputs": [
    {
     "data": {
      "text/html": [
       "<div>\n",
       "<style scoped>\n",
       "    .dataframe tbody tr th:only-of-type {\n",
       "        vertical-align: middle;\n",
       "    }\n",
       "\n",
       "    .dataframe tbody tr th {\n",
       "        vertical-align: top;\n",
       "    }\n",
       "\n",
       "    .dataframe thead th {\n",
       "        text-align: right;\n",
       "    }\n",
       "</style>\n",
       "<table border=\"1\" class=\"dataframe\">\n",
       "  <thead>\n",
       "    <tr style=\"text-align: right;\">\n",
       "      <th></th>\n",
       "      <th>Points</th>\n",
       "      <th>Cluster</th>\n",
       "      <th>Reachability Distance</th>\n",
       "      <th>Core Distance</th>\n",
       "    </tr>\n",
       "  </thead>\n",
       "  <tbody>\n",
       "    <tr>\n",
       "      <td>0</td>\n",
       "      <td>[-4.5909383873448295, -6.043818587917302]</td>\n",
       "      <td>1</td>\n",
       "      <td>0.222520</td>\n",
       "      <td>0.238701</td>\n",
       "    </tr>\n",
       "    <tr>\n",
       "      <td>1</td>\n",
       "      <td>[-4.883593256800025, -8.496874685265519]</td>\n",
       "      <td>1</td>\n",
       "      <td>0.083426</td>\n",
       "      <td>0.115171</td>\n",
       "    </tr>\n",
       "    <tr>\n",
       "      <td>2</td>\n",
       "      <td>[-8.035884035174696, 4.210129616672425]</td>\n",
       "      <td>2</td>\n",
       "      <td>0.208016</td>\n",
       "      <td>0.208016</td>\n",
       "    </tr>\n",
       "    <tr>\n",
       "      <td>3</td>\n",
       "      <td>[-8.924876431092317, 6.281052315876352]</td>\n",
       "      <td>2</td>\n",
       "      <td>0.211481</td>\n",
       "      <td>0.204392</td>\n",
       "    </tr>\n",
       "    <tr>\n",
       "      <td>4</td>\n",
       "      <td>[-7.635452157309633, 6.406502874004334]</td>\n",
       "      <td>2</td>\n",
       "      <td>0.113506</td>\n",
       "      <td>0.127351</td>\n",
       "    </tr>\n",
       "    <tr>\n",
       "      <td>...</td>\n",
       "      <td>...</td>\n",
       "      <td>...</td>\n",
       "      <td>...</td>\n",
       "      <td>...</td>\n",
       "    </tr>\n",
       "    <tr>\n",
       "      <td>495</td>\n",
       "      <td>[-8.229598203456067, 5.412596800506085]</td>\n",
       "      <td>2</td>\n",
       "      <td>0.096875</td>\n",
       "      <td>0.094795</td>\n",
       "    </tr>\n",
       "    <tr>\n",
       "      <td>496</td>\n",
       "      <td>[-5.949860517880562, 6.4963672455556125]</td>\n",
       "      <td>2</td>\n",
       "      <td>0.541165</td>\n",
       "      <td>0.706239</td>\n",
       "    </tr>\n",
       "    <tr>\n",
       "      <td>497</td>\n",
       "      <td>[-5.688828216380491, -8.711592860096452]</td>\n",
       "      <td>1</td>\n",
       "      <td>0.300780</td>\n",
       "      <td>0.300780</td>\n",
       "    </tr>\n",
       "    <tr>\n",
       "      <td>498</td>\n",
       "      <td>[-6.098031889314591, -6.796567130091841]</td>\n",
       "      <td>1</td>\n",
       "      <td>0.179646</td>\n",
       "      <td>0.190450</td>\n",
       "    </tr>\n",
       "    <tr>\n",
       "      <td>499</td>\n",
       "      <td>[-4.017964011124818, -7.130038752683442]</td>\n",
       "      <td>1</td>\n",
       "      <td>0.100997</td>\n",
       "      <td>0.091401</td>\n",
       "    </tr>\n",
       "  </tbody>\n",
       "</table>\n",
       "<p>500 rows × 4 columns</p>\n",
       "</div>"
      ],
      "text/plain": [
       "                                        Points  Cluster  \\\n",
       "0    [-4.5909383873448295, -6.043818587917302]        1   \n",
       "1     [-4.883593256800025, -8.496874685265519]        1   \n",
       "2      [-8.035884035174696, 4.210129616672425]        2   \n",
       "3      [-8.924876431092317, 6.281052315876352]        2   \n",
       "4      [-7.635452157309633, 6.406502874004334]        2   \n",
       "..                                         ...      ...   \n",
       "495    [-8.229598203456067, 5.412596800506085]        2   \n",
       "496   [-5.949860517880562, 6.4963672455556125]        2   \n",
       "497   [-5.688828216380491, -8.711592860096452]        1   \n",
       "498   [-6.098031889314591, -6.796567130091841]        1   \n",
       "499   [-4.017964011124818, -7.130038752683442]        1   \n",
       "\n",
       "     Reachability Distance  Core Distance  \n",
       "0                 0.222520       0.238701  \n",
       "1                 0.083426       0.115171  \n",
       "2                 0.208016       0.208016  \n",
       "3                 0.211481       0.204392  \n",
       "4                 0.113506       0.127351  \n",
       "..                     ...            ...  \n",
       "495               0.096875       0.094795  \n",
       "496               0.541165       0.706239  \n",
       "497               0.300780       0.300780  \n",
       "498               0.179646       0.190450  \n",
       "499               0.100997       0.091401  \n",
       "\n",
       "[500 rows x 4 columns]"
      ]
     },
     "execution_count": 462,
     "metadata": {},
     "output_type": "execute_result"
    }
   ],
   "source": [
    "df"
   ]
  },
  {
   "cell_type": "markdown",
   "metadata": {},
   "source": [
    "## Plot of the points after clustering"
   ]
  },
  {
   "cell_type": "code",
   "execution_count": 464,
   "metadata": {},
   "outputs": [
    {
     "data": {
      "text/plain": [
       "<matplotlib.collections.PathCollection at 0x7ffa2b939cd0>"
      ]
     },
     "execution_count": 464,
     "metadata": {},
     "output_type": "execute_result"
    },
    {
     "data": {
      "image/png": "[encoded data removed]",
      "text/plain": [
       "<Figure size 432x288 with 1 Axes>"
      ]
     },
     "metadata": {
      "needs_background": "light"
     },
     "output_type": "display_data"
    }
   ],
   "source": [
    "plt.scatter(X[:,0],X[:,1],c=df['Cluster'])"
   ]
  }
 ],
 "metadata": {
  "kernelspec": {
   "display_name": "Python 3",
   "language": "python",
   "name": "python3"
  },
  "language_info": {
   "codemirror_mode": {
    "name": "ipython",
    "version": 3
   },
   "file_extension": ".py",
   "mimetype": "text/x-python",
   "name": "python",
   "nbconvert_exporter": "python",
   "pygments_lexer": "ipython3",
   "version": "3.7.4"
  }
 },
 "nbformat": 4,
 "nbformat_minor": 2
}
